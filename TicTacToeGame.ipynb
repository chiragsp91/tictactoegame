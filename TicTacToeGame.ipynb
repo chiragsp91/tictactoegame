{
 "cells": [
  {
   "cell_type": "code",
   "execution_count": 94,
   "metadata": {
    "collapsed": true
   },
   "outputs": [],
   "source": [
    "from __future__ import print_function"
   ]
  },
  {
   "cell_type": "code",
   "execution_count": 95,
   "metadata": {
    "collapsed": true
   },
   "outputs": [],
   "source": [
    "from IPython.display import clear_output\n",
    "\n",
    "def display_board(board):\n",
    "    clear_output()\n",
    "    print(\" -------------\")\n",
    "    print(\" | \" + board[1] + \" | \" + board[2] + \" | \" + board[3] + \" | \")\n",
    "    print(\" -------------\")\n",
    "    print(\" | \" + board[4] + \" | \" + board[5] + \" | \" + board[6] + \" | \")\n",
    "    print(\" -------------\")\n",
    "    print(\" | \" + board[7] + \" | \" + board[8] + \" | \" + board[9] + \" | \")\n",
    "    print(\" -------------\")\n"
   ]
  },
  {
   "cell_type": "code",
   "execution_count": 96,
   "metadata": {
    "collapsed": true
   },
   "outputs": [],
   "source": [
    "def player_input():\n",
    "    marker = ''\n",
    "    while not (marker == 'O' or marker == 'X'):\n",
    "        marker = raw_input('Player 1 : Do you want to be X or O ? ').upper()\n",
    "        \n",
    "    if marker == 'X':\n",
    "        return ('X','O')\n",
    "    if marker == 'O':\n",
    "        return ('O','X')"
   ]
  },
  {
   "cell_type": "code",
   "execution_count": 97,
   "metadata": {
    "collapsed": true
   },
   "outputs": [],
   "source": [
    "def place_marker(board , marker , position):\n",
    "    board[position] = marker"
   ]
  },
  {
   "cell_type": "code",
   "execution_count": 98,
   "metadata": {
    "collapsed": true
   },
   "outputs": [],
   "source": [
    "def win_check(board , mark):\n",
    "    return (( board[1] == mark and board[2] == mark and board[3] == mark ) or\n",
    "    ( board[4] == mark and board[5] == mark and board[6] == mark ) or\n",
    "    ( board[7] == mark and board[8] == mark and board[9] == mark ) or\n",
    "    ( board[1] == mark and board[4] == mark and board[7] == mark ) or\n",
    "    ( board[2] == mark and board[5] == mark and board[8] == mark ) or\n",
    "    ( board[3] == mark and board[6] == mark and board[9] == mark ) or\n",
    "    ( board[1] == mark and board[5] == mark and board[9] == mark ) or\n",
    "    ( board[3] == mark and board[5] == mark and board[7] == mark ))"
   ]
  },
  {
   "cell_type": "code",
   "execution_count": 99,
   "metadata": {
    "collapsed": true
   },
   "outputs": [],
   "source": [
    "import random\n",
    "def choose_first():\n",
    "    if random.randint(0,1) == 0:\n",
    "        return 'Player 1'\n",
    "    else:\n",
    "        return 'Player 2'"
   ]
  },
  {
   "cell_type": "code",
   "execution_count": 100,
   "metadata": {
    "collapsed": true
   },
   "outputs": [],
   "source": [
    "def space_check(board, position):\n",
    "    return board[position] == ' '"
   ]
  },
  {
   "cell_type": "code",
   "execution_count": 101,
   "metadata": {
    "collapsed": true
   },
   "outputs": [],
   "source": [
    "def full_board_check(board):\n",
    "    for i in range(0,10):\n",
    "        if space_check(board , i):\n",
    "            return False\n",
    "    return True"
   ]
  },
  {
   "cell_type": "code",
   "execution_count": 102,
   "metadata": {},
   "outputs": [],
   "source": [
    "def player_choice(board):\n",
    "    position = ''\n",
    "    while position not in ['1','2','3','4','5','6','7','8','9'] or not space_check(board,int(position)):\n",
    "        position = raw_input('Whats your next position')\n",
    "    \n",
    "    return int(position)\n",
    "        "
   ]
  },
  {
   "cell_type": "code",
   "execution_count": 103,
   "metadata": {},
   "outputs": [],
   "source": [
    "def reply():\n",
    "    return raw_input('Do you want play another game ?').lower().startswith('y')"
   ]
  },
  {
   "cell_type": "code",
   "execution_count": 105,
   "metadata": {},
   "outputs": [
    {
     "name": "stdout",
     "output_type": "stream",
     "text": [
      " -------------\n",
      " | O | O | X | \n",
      " -------------\n",
      " | O | X | X | \n",
      " -------------\n",
      " | X |   | O | \n",
      " -------------\n",
      "Player 2 has won the game \n",
      "Do you want play another game ?no\n"
     ]
    }
   ],
   "source": [
    "print(\"Welcome to tic tac toe\")\n",
    "\n",
    "while True:\n",
    "    \n",
    "    theBoard = [' ']*10\n",
    "    display_board(theBoard)\n",
    "    turn = choose_first()\n",
    "    print(turn +\" will go first\")\n",
    "    player1_marker, player2_marker = player_input()\n",
    "    \n",
    "    game_on = True\n",
    "    \n",
    "    while game_on:\n",
    "        \n",
    "        if turn == 'Player 1':\n",
    "            \n",
    "            display_board(theBoard)\n",
    "            choice = player_choice(theBoard)\n",
    "            place_marker(theBoard,player1_marker , choice)\n",
    "            \n",
    "            if win_check(theBoard,player1_marker):\n",
    "                \n",
    "                display_board(theBoard)\n",
    "                print(\"Player 1 has won the game \")\n",
    "                game_on = False\n",
    "                \n",
    "            elif full_board_check(theBoard):\n",
    "                \n",
    "                display_board(theBoard)\n",
    "                print(\"The game is a tie\")\n",
    "                game_on = False\n",
    "            \n",
    "            else:\n",
    "                turn = 'Player 2'\n",
    "                \n",
    "        if turn == 'Player 2':\n",
    "            \n",
    "            display_board(theBoard)\n",
    "            choice = player_choice(theBoard)\n",
    "            place_marker(theBoard,player2_marker, choice)\n",
    "            \n",
    "            if win_check(theBoard,player2_marker):\n",
    "                \n",
    "                display_board(theBoard)\n",
    "                print(\"Player 2 has won the game \")\n",
    "                game_on = False\n",
    "                \n",
    "            elif full_board_check(theBoard):\n",
    "                \n",
    "                display_board(theBoard)\n",
    "                print(\"The game is a tie\")\n",
    "                game_on = False\n",
    "                \n",
    "            else:\n",
    "                turn = 'Player 1'\n",
    "    \n",
    "    if not reply():\n",
    "        break\n",
    "    \n",
    "    "
   ]
  },
  {
   "cell_type": "code",
   "execution_count": null,
   "metadata": {
    "collapsed": true
   },
   "outputs": [],
   "source": []
  },
  {
   "cell_type": "code",
   "execution_count": null,
   "metadata": {
    "collapsed": true
   },
   "outputs": [],
   "source": []
  }
 ],
 "metadata": {
  "kernelspec": {
   "display_name": "Python 2",
   "language": "python",
   "name": "python2"
  },
  "language_info": {
   "codemirror_mode": {
    "name": "ipython",
    "version": 2
   },
   "file_extension": ".py",
   "mimetype": "text/x-python",
   "name": "python",
   "nbconvert_exporter": "python",
   "pygments_lexer": "ipython2",
   "version": "2.7.13"
  }
 },
 "nbformat": 4,
 "nbformat_minor": 2
}
